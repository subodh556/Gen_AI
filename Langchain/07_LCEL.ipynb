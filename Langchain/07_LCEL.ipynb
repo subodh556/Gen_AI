{
 "cells": [
  {
   "cell_type": "code",
   "execution_count": 3,
   "metadata": {},
   "outputs": [],
   "source": [
    "import os\n",
    "from dotenv import load_dotenv , find_dotenv\n",
    "\n",
    "_ =load_dotenv(find_dotenv())\n",
    "\n",
    "\n",
    "from langchain_groq import ChatGroq\n",
    "\n",
    "chatm = ChatGroq(\n",
    "    model=\"llama3-70b-8192\"\n",
    ")"
   ]
  },
  {
   "cell_type": "code",
   "execution_count": 4,
   "metadata": {},
   "outputs": [
    {
     "data": {
      "text/plain": [
       "'Here\\'s one:\\n\\nNarendra Modi, the current Prime Minister of India, was a tea seller in his early days! Yes, you read that right! Modi grew up in a poor family in Vadnagar, Gujarat, and to support his family, he helped his brother run a small tea stall at the local railway station. This was in the 1960s, when Modi was just a teenager.\\n\\nIn fact, Modi has often spoken about how this experience taught him valuable lessons about hard work, entrepreneurship, and interacting with people from all walks of life. He has even referred to himself as a \"chaiwala\" (tea seller) on several occasions, proudly embracing his humble beginnings.\\n\\nWho would have thought that the boy who sold tea at a railway station would one day become the Prime Minister of India?'"
      ]
     },
     "execution_count": 4,
     "metadata": {},
     "output_type": "execute_result"
    }
   ],
   "source": [
    "from langchain_core.output_parsers import StrOutputParser\n",
    "from langchain_core.prompts import ChatPromptTemplate\n",
    "\n",
    "prompt = ChatPromptTemplate.from_template(\"tell me a curious fact about {politician}\")\n",
    "\n",
    "chain = prompt | chatm | StrOutputParser()\n",
    "\n",
    "chain.invoke({\"politician\":\"Narendra Modi\"})"
   ]
  },
  {
   "cell_type": "markdown",
   "metadata": {},
   "source": [
    "Legacy chain"
   ]
  },
  {
   "cell_type": "code",
   "execution_count": 5,
   "metadata": {},
   "outputs": [
    {
     "name": "stderr",
     "output_type": "stream",
     "text": [
      "C:\\Users\\Subodh\\AppData\\Local\\Temp\\ipykernel_15732\\1195419190.py:4: LangChainDeprecationWarning: The class `LLMChain` was deprecated in LangChain 0.1.17 and will be removed in 1.0. Use RunnableSequence, e.g., `prompt | llm` instead.\n",
      "  taditional_chain = LLMChain(\n"
     ]
    },
    {
     "data": {
      "text/plain": [
       "{'soccer_player': 'Lionel Messi',\n",
       " 'text': \"Here's a curious fact about Lionel Messi:\\n\\n**Lionel Messi has a growth hormone deficiency**. When he was 11 years old, Messi was diagnosed with a growth hormone deficiency, which meant that his body wasn't producing enough growth hormone, a hormone that regulates growth and development. This condition can lead to short stature and other growth-related issues. However, Messi's family couldn't afford the treatment, which cost around $1,500 per month.\\n\\nLuckily, Messi's talent on the pitch caught the attention of FC Barcelona, and the club offered to pay for his treatment in exchange for him joining their youth academy. Messi's family accepted the offer, and he began his treatment, which lasted for several years. Despite this challenge, Messi went on to become one of the greatest soccer players of all time, known for his incredible speed, agility, and ball control.\"}"
      ]
     },
     "execution_count": 5,
     "metadata": {},
     "output_type": "execute_result"
    }
   ],
   "source": [
    "from langchain.chains import LLMChain\n",
    "prompt = ChatPromptTemplate.from_template(\"tell me a curious fact about {soccer_player}\")\n",
    "\n",
    "taditional_chain = LLMChain(\n",
    "    llm=chatm,\n",
    "    prompt=prompt,\n",
    ")\n",
    "\n",
    "taditional_chain.invoke({\"soccer_player\":\"Lionel Messi\"})"
   ]
  }
 ],
 "metadata": {
  "kernelspec": {
   "display_name": "llmapp",
   "language": "python",
   "name": "python3"
  },
  "language_info": {
   "codemirror_mode": {
    "name": "ipython",
    "version": 3
   },
   "file_extension": ".py",
   "mimetype": "text/x-python",
   "name": "python",
   "nbconvert_exporter": "python",
   "pygments_lexer": "ipython3",
   "version": "3.11.11"
  }
 },
 "nbformat": 4,
 "nbformat_minor": 2
}
