{
 "cells": [
  {
   "cell_type": "code",
   "execution_count": 9,
   "metadata": {},
   "outputs": [],
   "source": [
    "import os\n",
    "from langchain_groq import ChatGroq\n",
    "from dotenv import load_dotenv, find_dotenv\n",
    "\n",
    "_ = load_dotenv(find_dotenv())\n",
    "\n",
    "chatm = ChatGroq(\n",
    "    model=\"llama3-70b-8192\"\n",
    ")"
   ]
  },
  {
   "cell_type": "code",
   "execution_count": 10,
   "metadata": {},
   "outputs": [
    {
     "data": {
      "text/plain": [
       "[{'url': 'https://indianexpress.com/article/sports/ipl/jasprit-bumrah-virat-kohli-here-are-top-10-performers-from-each-ipl-teams-9279292/',\n",
       "  'content': 'IPL 2024 Top Players: The Indian Express looks at the top performers from the every franchise in the ongoing edition of the Indian Premier League. By: Sports Desk Updated: April 24, 2024 11:14 IST. 5 min read. IPL 2024 Key Players: Jasprit Bumrah celebrates a wicket against Punjab Kings. (Express Photo by Kamleshwar Singh)'},\n",
       " {'url': 'https://www.telegraphindia.com/sports/cricket/indian-premier-league-2024-meet-the-indian-cricket-players-already-emerging-as-the-breakout-stars-of-the-year/cid/2012146',\n",
       "  'content': \"Sudharshan, who's 23 and comes from a family of sportspeople, has just shot up the batting charts from the 10th highest scorer in IPL 2024 to the fifth position from the top. The all-rounder from Chennai has played 18 matches to date in his IPL career and has scored 698 runs, with an average of 43.63. He has also slammed 4 half-centuries.\"}]"
      ]
     },
     "execution_count": 10,
     "metadata": {},
     "output_type": "execute_result"
    }
   ],
   "source": [
    "from langchain_community.tools.tavily_search import TavilySearchResults\n",
    "search = TavilySearchResults(max_results=2)\n",
    "search.invoke(\"who are the top stars of the 2024 IPL\")"
   ]
  },
  {
   "cell_type": "code",
   "execution_count": 13,
   "metadata": {},
   "outputs": [
    {
     "data": {
      "text/plain": [
       "[TavilySearchResults(max_results=2)]"
      ]
     },
     "execution_count": 13,
     "metadata": {},
     "output_type": "execute_result"
    }
   ],
   "source": [
    "tools = [search]\n",
    "tools"
   ]
  },
  {
   "cell_type": "code",
   "execution_count": 14,
   "metadata": {},
   "outputs": [],
   "source": [
    "from langgraph.prebuilt import create_react_agent\n",
    "\n",
    "agent_ex = create_react_agent(chatm,tools)"
   ]
  },
  {
   "cell_type": "code",
   "execution_count": 17,
   "metadata": {},
   "outputs": [
    {
     "data": {
      "text/plain": [
       "[HumanMessage(content='What is langchain?', id='c97422dc-c80e-4518-9208-75d4303b3ee1'),\n",
       " AIMessage(content='', additional_kwargs={'tool_calls': [{'id': 'call_e6x1', 'function': {'arguments': '{\"query\":\"langchain\"}', 'name': 'tavily_search_results_json'}, 'type': 'function'}]}, response_metadata={'token_usage': {'completion_tokens': 48, 'prompt_tokens': 944, 'total_tokens': 992, 'completion_time': 0.137142857, 'prompt_time': 0.060445615, 'queue_time': 0.063989253, 'total_time': 0.197588472}, 'model_name': 'llama3-70b-8192', 'system_fingerprint': 'fp_753a4aecf6', 'finish_reason': 'tool_calls', 'logprobs': None}, id='run-576df6f7-8f92-42d0-a384-8c4a35a91a72-0', tool_calls=[{'name': 'tavily_search_results_json', 'args': {'query': 'langchain'}, 'id': 'call_e6x1', 'type': 'tool_call'}], usage_metadata={'input_tokens': 944, 'output_tokens': 48, 'total_tokens': 992}),\n",
       " ToolMessage(content='[{\"url\": \"https://python.langchain.com/docs/introduction/\", \"content\": \"How to use tools in a chain How to migrate from legacy LangChain agents to LangGraph How to use chat models to call tools LangChain is a framework for developing applications powered by large language models (LLMs). Development: Build your applications using LangChain\\'s open-source building blocks, components, and third-party integrations. langchain: Chains, agents, and retrieval strategies that make up an application\\'s cognitive architecture. LangServe: Deploy LangChain chains as REST APIs. LangSmith: A developer platform that lets you debug, test, evaluate, and monitor LLM applications. Build stateful, multi-actor applications with LLMs. Integrates smoothly with LangChain, but can be used without it. LangChain is part of a rich ecosystem of tools that integrate with our framework and build on top of it.\"}, {\"url\": \"https://www.langchain.com/langchain\", \"content\": \"Augment the power\\\\nof\\xa0LLMs with your data\\\\nLangChain helps connect LLMs to your company’s private sources\\\\nof data and APIs to create context-aware, reasoning applications.\\\\n Our Methods\\\\nReady to start shipping\\\\nreliable GenAI apps faster?\\\\nLangChain and LangSmith are critical parts of the reference\\\\narchitecture to get you from prototype to production. The largest community building the future of LLM apps\\\\nLangChain’s flexible abstractions and AI-first toolkit make it\\xa0the\\xa0#1\\xa0choice for developers when building with GenAI.\\\\n Why choose LangChain?\\\\nLangChain is easy to get started with and\\xa0gives\\xa0you choice, flexibility, and power as\\xa0you scale.\\\\n Get customizability and control with a durable runtime baked in\\\\nLangChain Expression Language (LCEL) lets you build your app in a truly composable way, allowing you to customize it as you see fit.\"}]', name='tavily_search_results_json', id='4da12d53-0eaa-4d32-a52d-09793b389d12', tool_call_id='call_e6x1'),\n",
       " AIMessage(content='LangChain is a framework for developing applications powered by large language models (LLMs). It provides a way to connect LLMs to private sources of data and APIs to create context-aware, reasoning applications. LangChain offers a flexible and customizable approach to building GenAI apps, with a durable runtime and a composable architecture. It is part of a rich ecosystem of tools that integrate with the framework and build on top of it.', response_metadata={'token_usage': {'completion_tokens': 87, 'prompt_tokens': 1406, 'total_tokens': 1493, 'completion_time': 0.248571429, 'prompt_time': 0.074527516, 'queue_time': 0.037041676999999995, 'total_time': 0.323098945}, 'model_name': 'llama3-70b-8192', 'system_fingerprint': 'fp_753a4aecf6', 'finish_reason': 'stop', 'logprobs': None}, id='run-f658e7b3-bf86-411e-a598-eb1f1e9ea100-0', usage_metadata={'input_tokens': 1406, 'output_tokens': 87, 'total_tokens': 1493})]"
      ]
     },
     "execution_count": 17,
     "metadata": {},
     "output_type": "execute_result"
    }
   ],
   "source": [
    "from langchain_core.messages import HumanMessage\n",
    "\n",
    "response = agent_ex.invoke({\"messages\":[HumanMessage(content=\"What is langchain?\")]})\n",
    "\n",
    "response[\"messages\"]"
   ]
  },
  {
   "cell_type": "code",
   "execution_count": 18,
   "metadata": {},
   "outputs": [
    {
     "name": "stdout",
     "output_type": "stream",
     "text": [
      "{'agent': {'messages': [AIMessage(content='', additional_kwargs={'tool_calls': [{'id': 'call_av6a', 'function': {'arguments': '{\"query\":\"langchain\"}', 'name': 'tavily_search_results_json'}, 'type': 'function'}]}, response_metadata={'token_usage': {'completion_tokens': 45, 'prompt_tokens': 944, 'total_tokens': 989, 'completion_time': 0.129002928, 'prompt_time': 0.05144109, 'queue_time': 0.117562628, 'total_time': 0.180444018}, 'model_name': 'llama3-70b-8192', 'system_fingerprint': 'fp_753a4aecf6', 'finish_reason': 'tool_calls', 'logprobs': None}, id='run-08a0ae8c-0bf8-472f-8cfc-b389a29a880c-0', tool_calls=[{'name': 'tavily_search_results_json', 'args': {'query': 'langchain'}, 'id': 'call_av6a', 'type': 'tool_call'}], usage_metadata={'input_tokens': 944, 'output_tokens': 45, 'total_tokens': 989})]}}\n",
      "{'tools': {'messages': [ToolMessage(content='[{\"url\": \"https://python.langchain.com/docs/introduction/\", \"content\": \"How to use tools in a chain How to migrate from legacy LangChain agents to LangGraph How to use chat models to call tools LangChain is a framework for developing applications powered by large language models (LLMs). Development: Build your applications using LangChain\\'s open-source building blocks, components, and third-party integrations. langchain: Chains, agents, and retrieval strategies that make up an application\\'s cognitive architecture. LangServe: Deploy LangChain chains as REST APIs. LangSmith: A developer platform that lets you debug, test, evaluate, and monitor LLM applications. Build stateful, multi-actor applications with LLMs. Integrates smoothly with LangChain, but can be used without it. LangChain is part of a rich ecosystem of tools that integrate with our framework and build on top of it.\"}, {\"url\": \"https://www.langchain.com/langchain\", \"content\": \"Augment the power\\\\nof\\xa0LLMs with your data\\\\nLangChain helps connect LLMs to your company’s private sources\\\\nof data and APIs to create context-aware, reasoning applications.\\\\n Our Methods\\\\nReady to start shipping\\\\nreliable GenAI apps faster?\\\\nLangChain and LangSmith are critical parts of the reference\\\\narchitecture to get you from prototype to production. The largest community building the future of LLM apps\\\\nLangChain’s flexible abstractions and AI-first toolkit make it\\xa0the\\xa0#1\\xa0choice for developers when building with GenAI.\\\\n Why choose LangChain?\\\\nLangChain is easy to get started with and\\xa0gives\\xa0you choice, flexibility, and power as\\xa0you scale.\\\\n Get customizability and control with a durable runtime baked in\\\\nLangChain Expression Language (LCEL) lets you build your app in a truly composable way, allowing you to customize it as you see fit.\"}]', name='tavily_search_results_json', tool_call_id='call_av6a')]}}\n",
      "{'agent': {'messages': [AIMessage(content='LangChain is a framework for developing applications powered by large language models (LLMs). It provides a set of tools and components that enable developers to build stateful, multi-actor applications with LLMs. LangChain helps connect LLMs to private sources of data and APIs, allowing for the creation of context-aware, reasoning applications.', response_metadata={'token_usage': {'completion_tokens': 69, 'prompt_tokens': 1404, 'total_tokens': 1473, 'completion_time': 0.205840751, 'prompt_time': 0.095030713, 'queue_time': 0.08177870899999999, 'total_time': 0.300871464}, 'model_name': 'llama3-70b-8192', 'system_fingerprint': 'fp_2f30b0b571', 'finish_reason': 'stop', 'logprobs': None}, id='run-7e602040-e54c-4c9d-b59d-2f6d7a0aa7e9-0', usage_metadata={'input_tokens': 1404, 'output_tokens': 69, 'total_tokens': 1473})]}}\n"
     ]
    }
   ],
   "source": [
    "for chunk in agent_ex.stream(\n",
    "    {\"messages\":[HumanMessage(content=\"What is langchain?\")]}\n",
    "):\n",
    "    print(chunk)"
   ]
  },
  {
   "cell_type": "markdown",
   "metadata": {},
   "source": [
    "Adding Memory "
   ]
  },
  {
   "cell_type": "code",
   "execution_count": 19,
   "metadata": {},
   "outputs": [],
   "source": [
    "from langgraph.checkpoint.memory import MemorySaver\n",
    "memory = MemorySaver()"
   ]
  },
  {
   "cell_type": "code",
   "execution_count": 20,
   "metadata": {},
   "outputs": [],
   "source": [
    "agent_exx = create_react_agent(chatm,tools,checkpointer=memory)\n",
    "\n",
    "config = {\"configurable\":{\"thread_id\":\"001\"}}"
   ]
  },
  {
   "cell_type": "code",
   "execution_count": 25,
   "metadata": {},
   "outputs": [
    {
     "name": "stdout",
     "output_type": "stream",
     "text": [
      "{'agent': {'messages': [AIMessage(content='', additional_kwargs={'tool_calls': [{'id': 'call_efrm', 'function': {'arguments': '{\"query\":\"Who are Ambanis\"}', 'name': 'tavily_search_results_json'}, 'type': 'function'}]}, response_metadata={'token_usage': {'completion_tokens': 51, 'prompt_tokens': 945, 'total_tokens': 996, 'completion_time': 0.145950144, 'prompt_time': 0.078635443, 'queue_time': 0.029063006000000002, 'total_time': 0.224585587}, 'model_name': 'llama3-70b-8192', 'system_fingerprint': 'fp_753a4aecf6', 'finish_reason': 'tool_calls', 'logprobs': None}, id='run-9793cade-0361-4250-889e-73e7d54f0f5a-0', tool_calls=[{'name': 'tavily_search_results_json', 'args': {'query': 'Who are Ambanis'}, 'id': 'call_efrm', 'type': 'tool_call'}], usage_metadata={'input_tokens': 945, 'output_tokens': 51, 'total_tokens': 996})]}}\n",
      "{'tools': {'messages': [ToolMessage(content='[{\"url\": \"https://www.augustman.com/in/entertainment/culture/ambani-family-tree-members/\", \"content\": \"The Ambanis are the new-age royalties of India, where lineage, influence and cultural values reign supreme, surpassing the need for a blue-blooded heritage. Celebrated as one of the wealthiest and most revered families globally, the Ambanis stand as pillars of prominence, making for a very prosperous Ambani family tree.\"}, {\"url\": \"https://en.wikipedia.org/wiki/Mukesh_Ambani\", \"content\": \"Mukesh Dhirubhai Ambani (born 19 April 1957) is an Indian billionaire and businessman who is the chairman and managing director of Reliance Industries. [4] He is the richest person in Asia and 9th richest in the world. [5] [6]Sometimes characterized as a plutocrat, [7] he has attracted both fame and notoriety for reports of market manipulation, political corruption, cronyism, and exploitation.\"}]', name='tavily_search_results_json', tool_call_id='call_efrm')]}}\n",
      "{'agent': {'messages': [AIMessage(content='The Ambanis are a wealthy and influential family in India, often referred to as the \"new-age royalties\" of the country. They are known for their business empire, Reliance Industries, which is led by Mukesh Ambani, who is the richest person in Asia and one of the top 10 richest people in the world.', response_metadata={'token_usage': {'completion_tokens': 69, 'prompt_tokens': 1227, 'total_tokens': 1296, 'completion_time': 0.20023056, 'prompt_time': 0.070202796, 'queue_time': 0.018727115000000003, 'total_time': 0.270433356}, 'model_name': 'llama3-70b-8192', 'system_fingerprint': 'fp_2f30b0b571', 'finish_reason': 'stop', 'logprobs': None}, id='run-ad3cb1d0-19e7-4809-81b5-8cb1b12f0775-0', usage_metadata={'input_tokens': 1227, 'output_tokens': 69, 'total_tokens': 1296})]}}\n"
     ]
    }
   ],
   "source": [
    "for chunk in agent_ex.stream(\n",
    "    {\"messages\":[HumanMessage(content=\"Who are Ambanis?\")]} , config\n",
    "):\n",
    "    print(chunk)"
   ]
  },
  {
   "cell_type": "code",
   "execution_count": 27,
   "metadata": {},
   "outputs": [
    {
     "name": "stdout",
     "output_type": "stream",
     "text": [
      "{'agent': {'messages': [AIMessage(content='', additional_kwargs={'tool_calls': [{'id': 'call_2syq', 'function': {'arguments': '{\"query\":\"Ambani\\'s property\"}', 'name': 'tavily_search_results_json'}, 'type': 'function'}]}, response_metadata={'token_usage': {'completion_tokens': 50, 'prompt_tokens': 948, 'total_tokens': 998, 'completion_time': 0.149363712, 'prompt_time': 0.074323977, 'queue_time': 0.031347922, 'total_time': 0.223687689}, 'model_name': 'llama3-70b-8192', 'system_fingerprint': 'fp_2f30b0b571', 'finish_reason': 'tool_calls', 'logprobs': None}, id='run-98d50748-4cd1-42ca-81f8-78ff73a153fd-0', tool_calls=[{'name': 'tavily_search_results_json', 'args': {'query': \"Ambani's property\"}, 'id': 'call_2syq', 'type': 'tool_call'}], usage_metadata={'input_tokens': 948, 'output_tokens': 50, 'total_tokens': 998})]}}\n",
      "{'tools': {'messages': [ToolMessage(content='[{\"url\": \"https://www.gqindia.com/get-smart/content/mukesh-ambani-all-properties-the-world-famous-antilia-a-rs-2000-crore-lavish-hotel-in-new-york-and-more\", \"content\": \"Mukesh Ambani owns a 900-year-old hotel in London. In an interview with NDTV in 2012, Nita Ambani said that Antilia was the only property Ambani owned.\"}, {\"url\": \"https://luxurylaunches.com/real_estate/mukesh-ambani-properties-11232024.php\", \"content\": \"However, Ambani made the most of the pandemic and secured a stellar deal at a steep discount, as the property value had fallen to $134 million. Image - Stoke Park Stoke Park House, near London. In 2021, the Ambani family made history with the purchase of Stoke Park, a country estate in Buckinghamshire. Set on 300 acres of stunning parkland\"}]', name='tavily_search_results_json', tool_call_id='call_2syq')]}}\n",
      "{'agent': {'messages': [AIMessage(content=\"Based on the tool call result, it seems that Mukesh Ambani owns several properties, including:\\n\\n1. Antilia, a luxurious residence in Mumbai, India.\\n2. A 900-year-old hotel in London, UK.\\n3. A lavish hotel in New York, USA (although the exact details are not specified).\\n4. Stoke Park, a country estate in Buckinghamshire, UK, which was purchased in 2021.\\n\\nThe exact value of Ambani's properties is not specified, but it is reported that the Stoke Park estate was purchased at a discounted price of $134 million. Additionally, Antilia is reportedly valued at around Rs 2000 crore (approximately $270 million).\", response_metadata={'token_usage': {'completion_tokens': 140, 'prompt_tokens': 1228, 'total_tokens': 1368, 'completion_time': 0.417754389, 'prompt_time': 0.073822929, 'queue_time': 0.060624160999999996, 'total_time': 0.491577318}, 'model_name': 'llama3-70b-8192', 'system_fingerprint': 'fp_2f30b0b571', 'finish_reason': 'stop', 'logprobs': None}, id='run-eb2d30e3-f49d-450c-87fe-7649deb27c7c-0', usage_metadata={'input_tokens': 1228, 'output_tokens': 140, 'total_tokens': 1368})]}}\n"
     ]
    }
   ],
   "source": [
    "for chunk in agent_ex.stream(\n",
    "    {\"messages\":[HumanMessage(content=\"How much property does ambani's have?\")]} , config\n",
    "):\n",
    "    print(chunk)"
   ]
  }
 ],
 "metadata": {
  "kernelspec": {
   "display_name": "llmapp",
   "language": "python",
   "name": "python3"
  },
  "language_info": {
   "codemirror_mode": {
    "name": "ipython",
    "version": 3
   },
   "file_extension": ".py",
   "mimetype": "text/x-python",
   "name": "python",
   "nbconvert_exporter": "python",
   "pygments_lexer": "ipython3",
   "version": "3.11.11"
  }
 },
 "nbformat": 4,
 "nbformat_minor": 2
}
