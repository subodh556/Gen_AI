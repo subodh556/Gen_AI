{
 "cells": [
  {
   "cell_type": "code",
   "execution_count": 2,
   "metadata": {},
   "outputs": [
    {
     "name": "stdout",
     "output_type": "stream",
     "text": [
      "Ok\n"
     ]
    }
   ],
   "source": [
    "print(\"Ok\")"
   ]
  },
  {
   "cell_type": "code",
   "execution_count": 3,
   "metadata": {},
   "outputs": [],
   "source": [
    "import os\n",
    "from dotenv import load_dotenv,find_dotenv\n",
    "_ = load_dotenv(find_dotenv())\n",
    "openai_api_key = os.environ[\"OPENAI_API_KEY\"]"
   ]
  },
  {
   "cell_type": "code",
   "execution_count": 4,
   "metadata": {},
   "outputs": [],
   "source": [
    "# completion model\n",
    "\n",
    "from langchain_openai import OpenAI\n",
    "\n",
    "llmModel = OpenAI()"
   ]
  },
  {
   "cell_type": "code",
   "execution_count": 5,
   "metadata": {},
   "outputs": [
    {
     "data": {
      "text/plain": [
       "OpenAI(client=<openai.resources.completions.Completions object at 0x000002632560C810>, async_client=<openai.resources.completions.AsyncCompletions object at 0x00000263255E8250>, openai_api_key=SecretStr('**********'), openai_proxy='')"
      ]
     },
     "execution_count": 5,
     "metadata": {},
     "output_type": "execute_result"
    }
   ],
   "source": [
    "# llmModel"
   ]
  },
  {
   "cell_type": "code",
   "execution_count": null,
   "metadata": {},
   "outputs": [],
   "source": [
    "res=llmModel.invoke(\"Tell me about the donald trump.\")"
   ]
  },
  {
   "cell_type": "code",
   "execution_count": null,
   "metadata": {},
   "outputs": [],
   "source": [
    "for chunk in llmModel.stream(\"tell me about anything\"):\n",
    "    print(chunk,end=\"\",flush=True)"
   ]
  },
  {
   "cell_type": "markdown",
   "metadata": {},
   "source": [
    "Temperature : more then more creativity"
   ]
  },
  {
   "cell_type": "code",
   "execution_count": null,
   "metadata": {},
   "outputs": [],
   "source": [
    "update=OpenAI(temperature=0.9)\n",
    "update.invoke(\"donald trump\")"
   ]
  },
  {
   "cell_type": "code",
   "execution_count": null,
   "metadata": {},
   "outputs": [],
   "source": [
    "#chat model\n",
    "\n",
    "from langchain_openai import ChatOpenAI\n",
    "\n",
    "chatmodel=ChatOpenAI(model=\"gpt-3.5-turbo-0125\")\n",
    "\n",
    "messages = [\n",
    "    (\"system\",\"You are an historian expert in the kennedy family\"),\n",
    "    (\"human\",\"Tell me one curious thing about JFK.\"),\n",
    "]\n",
    "\n",
    "resp = chatmodel.invoke(messages)\n",
    "\n",
    "resp.content\n",
    "\n",
    "resp.response_metadata\n",
    "\n",
    "resp.schema()"
   ]
  },
  {
   "cell_type": "markdown",
   "metadata": {},
   "source": [
    "Alternative LLM "
   ]
  },
  {
   "cell_type": "code",
   "execution_count": 11,
   "metadata": {},
   "outputs": [],
   "source": [
    "import os\n",
    "from dotenv import load_dotenv,find_dotenv\n",
    "\n",
    "_=load_dotenv(find_dotenv())"
   ]
  },
  {
   "cell_type": "code",
   "execution_count": 14,
   "metadata": {},
   "outputs": [
    {
     "name": "stdout",
     "output_type": "stream",
     "text": [
      "Here's one curious thing about JFK:\n",
      "\n",
      "Did you know that John F. Kennedy, the 35th President of the United States, was a prolific writer and won a Pulitzer Prize? Yes, you read that right! In 1957, Kennedy was awarded the Pulitzer Prize for Biography or Autobiography for his book \"Profiles in Courage,\" which told the stories of eight U.S. senators who showed remarkable courage in the face of opposition.\n",
      "\n",
      "What's even more fascinating is that Kennedy didn't actually write the book himself. His speechwriter, Theodore Sorensen, did most of the research and writing, while Kennedy provided the ideas and edited the manuscript. Despite this, Kennedy's name was the only one listed as the author on the book's cover.\n",
      "\n",
      "This little-known fact speaks to Kennedy's intellectual curiosity and his ability to inspire and motivate others to produce high-quality work. It also highlights the complex and sometimes blurred lines between Kennedy's public image and his private persona.\n"
     ]
    }
   ],
   "source": [
    "from langchain_groq import ChatGroq\n",
    "\n",
    "chatm = ChatGroq(\n",
    "    model=\"llama3-70b-8192\"\n",
    ")\n",
    "\n",
    "messages = [\n",
    "    (\"system\",\"You are an historian expert in the kennedy family\"),\n",
    "    (\"human\",\"Tell me one curious thing about JFK.\"),\n",
    "]\n",
    "\n",
    "print(chatm.invoke(messages).content)"
   ]
  }
 ],
 "metadata": {
  "kernelspec": {
   "display_name": "llmapp",
   "language": "python",
   "name": "python3"
  },
  "language_info": {
   "codemirror_mode": {
    "name": "ipython",
    "version": 3
   },
   "file_extension": ".py",
   "mimetype": "text/x-python",
   "name": "python",
   "nbconvert_exporter": "python",
   "pygments_lexer": "ipython3",
   "version": "3.11.11"
  }
 },
 "nbformat": 4,
 "nbformat_minor": 2
}
